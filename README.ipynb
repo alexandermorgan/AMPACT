{
 "cells": [
  {
   "cell_type": "markdown",
   "id": "19878396-425f-4724-a0b3-85965596cf40",
   "metadata": {},
   "source": [
    "# AMPACT Repository Usage Guide\n",
    "\n",
    "All examples below require the following import, so be sure to run the following cell:"
   ]
  },
  {
   "cell_type": "code",
   "execution_count": 2,
   "id": "2478e12c-07fc-4143-b82b-0edf77b0c1c5",
   "metadata": {},
   "outputs": [
    {
     "name": "stdout",
     "output_type": "stream",
     "text": [
      "Successfully imported Score class.\n"
     ]
    }
   ],
   "source": [
    "from script import Score\n",
    "print('Successfully imported Score class.')"
   ]
  },
  {
   "cell_type": "markdown",
   "id": "12ca1e1a-ab18-4144-a185-0680f3b57ec2",
   "metadata": {},
   "source": [
    "You can import a piece with a filepath or a url. Any symbolic notation filetype that music21 imports is allowed and this includes all the major ones like .mei, .xml, .krn, .midi, etc. Let's import one from the test_files directory in the repo."
   ]
  },
  {
   "cell_type": "code",
   "execution_count": 3,
   "id": "a6fc5b36-0422-44bd-88f7-3ba0f16688b1",
   "metadata": {},
   "outputs": [
    {
     "name": "stdout",
     "output_type": "stream",
     "text": [
      "Successfully imported Sieben Variationen in D uber das hollandische Lied Willem van Nassau by Mozart\n",
      "\n"
     ]
    }
   ],
   "source": [
    "piece = Score('./test_files/M025_00_01a_a-repeated.krn')\n",
    "print(f'Successfully imported {piece.metadata[\"Title\"]} by {piece.metadata[\"Composer\"]}\\n')"
   ]
  },
  {
   "cell_type": "markdown",
   "id": "6a711d31-2562-49b9-be97-b90d9d220ee5",
   "metadata": {},
   "source": [
    "Run this to see all the public method and properties available on score objects:"
   ]
  },
  {
   "cell_type": "code",
   "execution_count": 6,
   "id": "a2595f4d-210c-417f-8e52-2ec9296132a5",
   "metadata": {},
   "outputs": [
    {
     "name": "stdout",
     "output_type": "stream",
     "text": [
      "durations\n",
      "file_extension\n",
      "file_name\n",
      "functions\n",
      "harmKeys\n",
      "harmonies\n",
      "lyrics\n",
      "m21ObjectsNoTies\n",
      "m21_objects\n",
      "mask\n",
      "metadata\n",
      "midi_pitches\n",
      "nmats\n",
      "part_names\n",
      "part_streams\n",
      "path\n",
      "piano_roll\n",
      "sampled\n",
      "score\n",
      "semi_flat_parts\n"
     ]
    }
   ],
   "source": [
    "print(*piece.public, sep='\\n')"
   ]
  }
 ],
 "metadata": {
  "kernelspec": {
   "display_name": "Python 3 (ipykernel)",
   "language": "python",
   "name": "python3"
  },
  "language_info": {
   "codemirror_mode": {
    "name": "ipython",
    "version": 3
   },
   "file_extension": ".py",
   "mimetype": "text/x-python",
   "name": "python",
   "nbconvert_exporter": "python",
   "pygments_lexer": "ipython3",
   "version": "3.10.11"
  }
 },
 "nbformat": 4,
 "nbformat_minor": 5
}
